{
 "cells": [
  {
   "cell_type": "markdown",
   "id": "5e5dcf54-3a99-4262-8085-85ebb54d6f68",
   "metadata": {},
   "source": [
    "1) \n",
    "MongoDB is a non-relational document database that provides support for JSON-like storage. The MongoDB database has a flexible data model that enables you to store unstructured data, and it provides full indexing support, and replication with rich and intuitive APIs.\n",
    "Lesser Server Cost and Open-Source NoSQL databases are cheap and open source. NoSQL database implementation is easy and typically uses cheap servers to manage the exploding data and transaction while RDBMS databases are expensive and it uses big servers and storage systems."
   ]
  },
  {
   "cell_type": "code",
   "execution_count": null,
   "id": "07d81228-11db-4893-94e6-40b09e79dbdf",
   "metadata": {},
   "outputs": [],
   "source": []
  },
  {
   "cell_type": "markdown",
   "id": "35058caa-dbd2-4e8f-8c66-b2b8c475a8ec",
   "metadata": {},
   "source": [
    "2) \n",
    "MongoDB supports field queries, range queries, and regular expression searches. Queries can return specific fields and also account for user-defined functions. This is made possible because MongoDB indexes BSON documents and uses the MongoDB Query Language (MQL)."
   ]
  },
  {
   "cell_type": "markdown",
   "id": "6f174d43-a7e0-4184-81e1-1078a4cd4ed0",
   "metadata": {},
   "source": []
  },
  {
   "cell_type": "markdown",
   "id": "ba1c33c6-99b1-40aa-9687-2d19f9a8a2c1",
   "metadata": {},
   "source": [
    "3) \n",
    "</br>\n",
    "pip install pymongo\n",
    "</br>\n",
    "import pymongo\n",
    "</br>\n",
    "client=pymongo.MongoClient(\"import/copy connection url from mongodb\")\n",
    "</br>\n",
    "db=client.test\n",
    "</br>\n",
    "db=client[\"collection\"]\n",
    "</br>\n",
    "coll_create=db[\"my_records\"]"
   ]
  },
  {
   "cell_type": "code",
   "execution_count": null,
   "id": "fe56241f-5531-4887-9c90-de50786d6ff6",
   "metadata": {},
   "outputs": [],
   "source": []
  },
  {
   "cell_type": "markdown",
   "id": "8fdab4c0-ab3c-4ac3-84f1-c8f3a83ef893",
   "metadata": {},
   "source": [
    "4) \n",
    "</br>\n",
    "#To insert one record\n",
    "data={\"name\":\"mihir\",\"class\":\"pwskills\",\"age\"::22}\n",
    "</br>\n",
    "coll_create.insert_one(data)\n",
    "</br>\n",
    "#to insert many records\n",
    "</br>\n",
    "data1=[{\"name\":\"mihir\",\"class\":\"pwskills\",\"age\"::22}\n",
    "{\"name\":\"mahesh\",\"class\":\"pwskills\",\"age\"::42}\n",
    "{\"name\":\"satish\",\"class\":\"pwskills\",\"age\"::62}]\n",
    "</br>\n",
    "coll_create.insert_many(data1)\n",
    "\n",
    "#To find the data all the data\n",
    "</br>\n",
    "for i in coll_create.find()\n",
    "print(i)\n",
    "\n",
    "#To find the specific data\n",
    "</br>\n",
    "for i in coll_create.find(\"class\":\"pwskills\")\n",
    "print (i)"
   ]
  },
  {
   "cell_type": "code",
   "execution_count": null,
   "id": "16369258-a308-46fe-ab9c-70d9dc91144e",
   "metadata": {},
   "outputs": [],
   "source": []
  },
  {
   "cell_type": "markdown",
   "id": "0c2c2150-515a-42ed-8585-5e7497f3460f",
   "metadata": {},
   "source": [
    "5) \n",
    "In MongoDB, the find() method is used to query documents from a collection based on specified criteria. This method returns a cursor object that can be iterated over to access the documents that match the query criteria.\n",
    "\n",
    "from pymongo import MongoClient\n",
    "\n",
    "#Connect to the MongoDB server\n",
    "client = MongoClient('mongodb://localhost:27017/')\n",
    "\n",
    "#Access the database\n",
    "</br>\n",
    "db = client['mydatabase']\n",
    "\n",
    "#Access the collection\n",
    "</br>\n",
    "collection = db['mycollection']\n",
    "\n",
    "#Insert some sample data\n",
    "</br>\n",
    "collection.insert_many([\n",
    "    {\"name\": \"John\", \"age\": 30},\n",
    "    {\"name\": \"Alice\", \"age\": 25},\n",
    "    {\"name\": \"Bob\", \"age\": 35}])\n",
    "\n",
    "#Query all documents in the collection\n",
    "</br>\n",
    "cursor = collection.find()\n",
    "\n",
    "#Iterate over the cursor to print the documents\n",
    "</br>\n",
    "print(\"All documents in the collection:\")\n",
    "for document in cursor:\n",
    "    print(document)\n",
    "\n",
    "#Query documents where age is greater than 30\n",
    "</br>\n",
    "cursor = collection.find({\"age\": {\"$gt\": 30}})\n",
    "\n",
    "#Iterate over the cursor to print the documents\n",
    "</br>\n",
    "print(\"\\nDocuments where age is greater than 30:\")\n",
    "for document in cursor:\n",
    "    print(document)"
   ]
  },
  {
   "cell_type": "raw",
   "id": "1f5edd39-155e-4142-8a4f-ca7939528404",
   "metadata": {},
   "source": []
  },
  {
   "cell_type": "markdown",
   "id": "32eb465d-5afa-436e-b3a7-eb5810efb43e",
   "metadata": {},
   "source": [
    "6) \n",
    "The sort() method specifies the order in which the query returns the matching documents from the given collection. You must apply this method to the cursor before retrieving any documents from the database.\n",
    "</br>\n",
    "coll_create.sort(data)"
   ]
  },
  {
   "cell_type": "code",
   "execution_count": null,
   "id": "ea22438a-0bc9-4d91-9093-26ef08de47a3",
   "metadata": {},
   "outputs": [],
   "source": []
  },
  {
   "cell_type": "markdown",
   "id": "64415b03-28ff-4c80-bd35-fd76274c1730",
   "metadata": {},
   "source": [
    "7)</br> \n",
    "delete_one -  This is used to delete one record in the collection.\n",
    "</br>\n",
    "delete_many - This is used to delete many records in the collection.\n",
    "</br>\n",
    "drop() - This is used to delete the collection."
   ]
  },
  {
   "cell_type": "code",
   "execution_count": null,
   "id": "db8e1e58-c4a7-48bd-a72a-e738082034af",
   "metadata": {},
   "outputs": [],
   "source": []
  }
 ],
 "metadata": {
  "kernelspec": {
   "display_name": "Python 3 (ipykernel)",
   "language": "python",
   "name": "python3"
  },
  "language_info": {
   "codemirror_mode": {
    "name": "ipython",
    "version": 3
   },
   "file_extension": ".py",
   "mimetype": "text/x-python",
   "name": "python",
   "nbconvert_exporter": "python",
   "pygments_lexer": "ipython3",
   "version": "3.10.8"
  }
 },
 "nbformat": 4,
 "nbformat_minor": 5
}
